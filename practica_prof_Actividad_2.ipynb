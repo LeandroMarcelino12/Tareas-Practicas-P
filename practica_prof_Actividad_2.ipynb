{
  "nbformat": 4,
  "nbformat_minor": 0,
  "metadata": {
    "colab": {
      "provenance": [],
      "include_colab_link": true
    },
    "kernelspec": {
      "name": "python3",
      "display_name": "Python 3"
    },
    "language_info": {
      "name": "python"
    }
  },
  "cells": [
    {
      "cell_type": "markdown",
      "metadata": {
        "id": "view-in-github",
        "colab_type": "text"
      },
      "source": [
        "<a href=\"https://colab.research.google.com/github/PokerMonkey12/Tareas-Practicas-P/blob/main/practica_prof_Actividad_2.ipynb\" target=\"_parent\"><img src=\"https://colab.research.google.com/assets/colab-badge.svg\" alt=\"Open In Colab\"/></a>"
      ]
    },
    {
      "cell_type": "markdown",
      "source": [
        "# Actividad 2"
      ],
      "metadata": {
        "id": "Vdl_txP_7LtD"
      }
    },
    {
      "cell_type": "markdown",
      "source": [
        "## Trabajo en grupo entre 2 o 3 estudiantes\n",
        "Indicar los nombres y los links de los repositorios de la actividad 1 de los integrantes:\n",
        "* Leandro Marcelino- repositorio:https://github.com/PokerMonkey12/mi_hobby\n",
        "* Uziel Goral- repositorio:https://github.com/uzigoral/mi_hobby\n",
        "* Ignacio Tessari- repositorio:https://github.com/IgnacioTessari/mi_hobby"
      ],
      "metadata": {
        "id": "Pxb1o18H7UKU"
      }
    },
    {
      "cell_type": "markdown",
      "source": [
        "# Python y Colab\n",
        "* Se utilizará **Python** y este documento de **Google Colab** para resolver el ejercicio.\n",
        "* Para que la tarea se considere entregada se deberá poner el link del documento colab, con las soluciones, en la tarea de **todos** los integrantes.\n",
        "\n",
        "El ejercicio es **procesar texto** largo para identificar líenas, caracteres específicos.\n",
        "\n",
        "1. Se deberá realizar una **copia** de este documento antes de comenzar a modificar\n",
        "2. A lo largo del docuemnto se pedirá que responda preguntas y realice código, completar en la copia realizada con lo solicitado.\n",
        "3. Copiar el texto de los archivos subidos en los repositorios individuales utilizados en la actividad 1,  de cada integrante de este grupo en una sola **variable de texto.**\n",
        "\n"
      ],
      "metadata": {
        "id": "kufnxVG474V2"
      }
    },
    {
      "cell_type": "code",
      "source": [
        "# completar con sus textos\n",
        "texto_completo = ''' Título: Ver Películas:\n",
        "DiDippinversión: Disfruto ver películas porque me permite crear un momento de paz y tranquilidad con mi familia luego de que vengan del trabajo.\n",
        "\n",
        "Familia: Mi hermano y yo compartimos este hobby mas que con el resto de la familia porque tenemos gustos parecidos aunque con el resto de la familia vemos peliculas los fines de semana.\n",
        "\n",
        "Amigos: de vez en cuando me junto con unos amigos para ver peliculas wue elegimos entre todos.\n",
        "\n",
        "Medios: Busco información sobre películas en youtube para ver reseñas y encontrar recomendaciones ademas, utilizo aplicaciones de streaming como Netflix y Disney+ para ver peliculas en cualquier momento.\n",
        "\n",
        "Tecnología: La tecnología ha hecho que ver películas sea mas facil con las plataformas de streaming y las aplicaciones moviles se puedo ver peliculas en cualquier lugar que desee tambien es mucho mas facil compartir recomendaciones y discutir sobre las peliculas con amigos. gracias a el acceso a subtítulos y doblajes facilita que las películas sean accesibles para todas las personas siendo un hobby que puede ser disfrutado por personas de todos los géneros y la tecnología ha contribuido a hacerlo más accesible y diverso.\n",
        "\n",
        "Titulo: Tocar la Guitarra\n",
        "Diversión: Me gusta ya que con el paso del tiempo empezas a poder tocar las canciones que te gustan, asi tambien te ayuda a comprender un poco mejor la musica en general y conocer nuevos generos.\n",
        "\n",
        "Familia: Comparto este hobby con mi papa que toca la bateria, gracias a el puedo tocar de vez en cuando con alguna otra banda.\n",
        "\n",
        "Amigos: Si bien mis amigos tocan un poco el piano no compartimos mucho gusto musical asi que nunca tocamos.\n",
        "\n",
        "Medios: Youtube es muy util para los tutoriales, asi tambien como internet en general para buscar canciones o paginas web para escribir partitura.\n",
        "\n",
        "Tecnología: Si hablamos de guitarra electrica la tecnologia es indispensable y sin ella no existiria. Hoy en dia la mayoria de efectos para la guitarra son digitales y se manejan a traves de un programa. Y en cuanto genero, si bien un estudio reciente confirmo que el 50% de personas que compran guitarras son mujeres, en mi experiencia personal suelo ver muchos mas guitarristas hombres, y sinceramente no pude encontrar la razon.\n",
        "\n",
        "Titulo: Jugar rugby.\n",
        "Diversión: Lo hago desde los 4 años y considero que es parte de mi.\n",
        "\n",
        "Familia: Con mis 2 hermanos mayores pero no jugamos en la misma categoria.\n",
        "\n",
        "Amigos: No lo comparto con amigos pero si con compañeros los dias: martes, jueves y domingo.\n",
        "\n",
        "Medios: Normalmente encuentro informacion de rugby por youtube e instagram.\n",
        "\n",
        "Tecnología: La tecnologia ayudo a que se conozca mas y que haya mas publicidad, es realizado por mas hombres que mujeres.\n"
      ],
      "metadata": {
        "id": "_y9xVFhj9Heq"
      },
      "execution_count": null,
      "outputs": []
    },
    {
      "cell_type": "markdown",
      "source": [
        "* Utilice el método **split()** para separar las palabras de la variable texto_completo, guarde el resultado en una variable nueva.\n",
        "* Indique el tipo de dato de la variable nueva utilizando el método **type(variable)**"
      ],
      "metadata": {
        "id": "e8llbqcS5e9c"
      }
    },
    {
      "cell_type": "markdown",
      "source": [
        "* *texto en cursiva* Esta variable es de tipo **string**, podes conocer más en esta [página](https://docs.python.org/es/3/library/string.html).\n",
        "* Podemos saber la longitud con len().\n",
        "```python\n",
        "len(texto_completo)\n",
        "```\n",
        "* Podemos separar por palabras, es decir, generar una lista donde cada palabra sea una elemento con el método split()\n",
        "```python\n",
        "texto_completo.split()\n",
        "```\n",
        "\n",
        "\n"
      ],
      "metadata": {
        "id": "NsW0r4bK9SHH"
      }
    },
    {
      "cell_type": "code",
      "source": [
        "palabras_separadas = texto_completo.split()\n",
        "tipo_de_dato = type(palabras_separadas)\n",
        "\n",
        "print(\"Palabras separadas:\", palabras_separadas)\n",
        "print(\"Tipo de dato de la variable nueva:\", tipo_de_dato)"
      ],
      "metadata": {
        "id": "kNii0TOyn5CM",
        "colab": {
          "base_uri": "https://localhost:8080/",
          "height": 211
        },
        "outputId": "dbb7720c-82c4-46a9-87e8-9af3a09f61fa"
      },
      "execution_count": null,
      "outputs": [
        {
          "output_type": "error",
          "ename": "NameError",
          "evalue": "name 'texto_completo' is not defined",
          "traceback": [
            "\u001b[0;31m---------------------------------------------------------------------------\u001b[0m",
            "\u001b[0;31mNameError\u001b[0m                                 Traceback (most recent call last)",
            "\u001b[0;32m<ipython-input-1-e2b1ef0105c4>\u001b[0m in \u001b[0;36m<cell line: 1>\u001b[0;34m()\u001b[0m\n\u001b[0;32m----> 1\u001b[0;31m \u001b[0mpalabras_separadas\u001b[0m \u001b[0;34m=\u001b[0m \u001b[0mtexto_completo\u001b[0m\u001b[0;34m.\u001b[0m\u001b[0msplit\u001b[0m\u001b[0;34m(\u001b[0m\u001b[0;34m)\u001b[0m\u001b[0;34m\u001b[0m\u001b[0;34m\u001b[0m\u001b[0m\n\u001b[0m\u001b[1;32m      2\u001b[0m \u001b[0mtipo_de_dato\u001b[0m \u001b[0;34m=\u001b[0m \u001b[0mtype\u001b[0m\u001b[0;34m(\u001b[0m\u001b[0mpalabras_separadas\u001b[0m\u001b[0;34m)\u001b[0m\u001b[0;34m\u001b[0m\u001b[0;34m\u001b[0m\u001b[0m\n\u001b[1;32m      3\u001b[0m \u001b[0;34m\u001b[0m\u001b[0m\n\u001b[1;32m      4\u001b[0m \u001b[0mprint\u001b[0m\u001b[0;34m(\u001b[0m\u001b[0;34m\"Palabras separadas:\"\u001b[0m\u001b[0;34m,\u001b[0m \u001b[0mpalabras_separadas\u001b[0m\u001b[0;34m)\u001b[0m\u001b[0;34m\u001b[0m\u001b[0;34m\u001b[0m\u001b[0m\n\u001b[1;32m      5\u001b[0m \u001b[0mprint\u001b[0m\u001b[0;34m(\u001b[0m\u001b[0;34m\"Tipo de dato de la variable nueva:\"\u001b[0m\u001b[0;34m,\u001b[0m \u001b[0mtipo_de_dato\u001b[0m\u001b[0;34m)\u001b[0m\u001b[0;34m\u001b[0m\u001b[0;34m\u001b[0m\u001b[0m\n",
            "\u001b[0;31mNameError\u001b[0m: name 'texto_completo' is not defined"
          ]
        }
      ]
    },
    {
      "cell_type": "code",
      "source": [
        "texto_ejemplo = '''Copiar el texto del archivo subido en los repositorios individuales de cada integrante de este grupo en una variable de texto'''\n",
        "lista_palabras = texto_ejemplo.split()\n",
        "print(lista_palabras)"
      ],
      "metadata": {
        "id": "RHoorckM9-5U"
      },
      "execution_count": null,
      "outputs": []
    },
    {
      "cell_type": "code",
      "source": [
        "#completar con el código que separa la variable texto_compelto teniendo en cuenta el caracter \":\"\n",
        "lista_palabras = texto_completo.split(\":\")\n",
        "print(lista_palabras)\n",
        "#completar con el código indicando la longitud de la nueva variable\n",
        "longitud_lista = len(lista_palabras)\n",
        "print(\"la longitud es de:\",longitud_lista)\n"
      ],
      "metadata": {
        "id": "IxqvPv2r61y2",
        "colab": {
          "base_uri": "https://localhost:8080/"
        },
        "outputId": "c9b91315-09c1-473b-ff5a-3aae8b00545e"
      },
      "execution_count": null,
      "outputs": [
        {
          "output_type": "stream",
          "name": "stdout",
          "text": [
            "[' Título', ' Ver Películas', '\\nDiversión', ' Disfruto ver películas porque me permite crear un momento de paz y tranquilidad con mi familia luego de que vengan del trabajo.\\n\\nFamilia', ' Mi hermano y yo compartimos este hobby mas que con el resto de la familia porque tenemos gustos parecidos aunque con el resto de la familia vemos peliculas los fines de semana.\\n\\nAmigos', ' de vez en cuando me junto con unos amigos para ver peliculas wue elegimos entre todos.\\n\\nMedios', ' Busco información sobre películas en youtube para ver reseñas y encontrar recomendaciones ademas, utilizo aplicaciones de streaming como Netflix y Disney+ para ver peliculas en cualquier momento.\\n\\nTecnología', ' La tecnología ha hecho que ver películas sea mas facil con las plataformas de streaming y las aplicaciones moviles se puedo ver peliculas en cualquier lugar que desee tambien es mucho mas facil compartir recomendaciones y discutir sobre las peliculas con amigos. gracias a el acceso a subtítulos y doblajes facilita que las películas sean accesibles para todas las personas siendo un hobby que puede ser disfrutado por personas de todos los géneros y la tecnología ha contribuido a hacerlo más accesible y diverso.\\n\\nTitulo', ' Tocar la Guitarra\\nDiversión', ' Me gusta ya que con el paso del tiempo empezas a poder tocar las canciones que te gustan, asi tambien te ayuda a comprender un poco mejor la musica en general y conocer nuevos generos.\\n\\nFamilia', ' Comparto este hobby con mi papa que toca la bateria, gracias a el puedo tocar de vez en cuando con alguna otra banda.\\n\\nAmigos', ' Si bien mis amigos tocan un poco el piano no compartimos mucho gusto musical asi que nunca tocamos.\\n\\nMedios', ' Youtube es muy util para los tutoriales, asi tambien como internet en general para buscar canciones o paginas web para escribir partitura.\\n\\nTecnología', ' Si hablamos de guitarra electrica la tecnologia es indispensable y sin ella no existiria. Hoy en dia la mayoria de efectos para la guitarra son digitales y se manejan a traves de un programa. Y en cuanto genero, si bien un estudio reciente confirmo que el 50% de personas que compran guitarras son mujeres, en mi experiencia personal suelo ver muchos mas guitarristas hombres, y sinceramente no pude encontrar la razon.\\n\\nTitulo', ' Jugar rugby.\\nDiversión', ' Lo hago desde los 4 años y considero que es parte de mi.\\n\\nFamilia', ' Con mis 2 hermanos mayores pero no jugamos en la misma categoria.\\n\\nAmigos', ' No lo comparto con amigos pero si con compañeros los dias', ' martes, jueves y domingo.\\n\\nMedios', ' Normalmente encuentro informacion de rugby por youtube e instagram.\\n\\nTecnología', ' La tecnologia ayudo a que se conozca mas y que haya mas publicidad, es realizado por mas hombres que mujeres. ']\n",
            "la longitud es de: 21\n",
            "<class 'int'>\n"
          ]
        }
      ]
    },
    {
      "cell_type": "markdown",
      "source": [
        "* Indique con qué método se puede sacar los espacios que tiene un texto adelante o atrás, como se ve en ejemplo de abajo.\n",
        "\n",
        "\"  texto con espacio             \" -> \"texto con espacio\""
      ],
      "metadata": {
        "id": "-52ubwhNAuBv"
      }
    },
    {
      "cell_type": "code",
      "source": [
        "#completar con el código ejemplo utilizando el método correspondiente\n",
        "palabras_sin_espacio = texto_completo.strip()\n",
        "print(palabras_sin_espacio)"
      ],
      "metadata": {
        "id": "jMFf3UY3BSm9"
      },
      "execution_count": null,
      "outputs": []
    },
    {
      "cell_type": "markdown",
      "source": [
        "* Indique cómo se puede utilizar el método split() para separar palabras, utilizando como caracter de separación, por ejemplo \":\":\n",
        "\n",
        "\"texto: es una línea de texto\" -> [\"texto\", \"es una línea de texto\"]\n",
        "* Realice la separación del texto de la variable texto_completo y guarde el resultado en una nueva variable.\n",
        "* Indique la longitud de esta nueva variable"
      ],
      "metadata": {
        "id": "6RPs7HOf5IFL"
      }
    },
    {
      "cell_type": "code",
      "source": [
        "#completar con el código\n",
        "texto_completo = ''' Título: Ver Películas:\n",
        "Diversión: Disfruto ver películas porque me permite crear un momento de paz y tranquilidad con mi familia luego de que vengan del trabajo.\n",
        "\n",
        "Familia: Mi hermano y yo compartimos este hobby mas que con el resto de la familia porque tenemos gustos parecidos aunque con el resto de la familia vemos peliculas los fines de semana.\n",
        "\n",
        "Amigos: de vez en cuando me junto con unos amigos para ver peliculas wue elegimos entre todos.\n",
        "\n",
        "Medios: Busco información sobre películas en youtube para ver reseñas y encontrar recomendaciones ademas, utilizo aplicaciones de streaming como Netflix y Disney+ para ver peliculas en cualquier momento.\n",
        "\n",
        "Tecnología: La tecnología ha hecho que ver películas sea mas facil con las plataformas de streaming y las aplicaciones moviles se puedo ver peliculas en cualquier lugar que desee tambien es mucho mas facil compartir recomendaciones y discutir sobre las peliculas con amigos. gracias a el acceso a subtítulos y doblajes facilita que las películas sean accesibles para todas las personas siendo un hobby que puede ser disfrutado por personas de todos los géneros y la tecnología ha contribuido a hacerlo más accesible y diverso.\n",
        "\n",
        "Titulo: Tocar la Guitarra\n",
        "Diversión: Me gusta ya que con el paso del tiempo empezas a poder tocar las canciones que te gustan, asi tambien te ayuda a comprender un poco mejor la musica en general y conocer nuevos generos.\n",
        "\n",
        "Familia: Comparto este hobby con mi papa que toca la bateria, gracias a el puedo tocar de vez en cuando con alguna otra banda.\n",
        "\n",
        "Amigos: Si bien mis amigos tocan un poco el piano no compartimos mucho gusto musical asi que nunca tocamos.\n",
        "\n",
        "Medios: Youtube es muy util para los tutoriales, asi tambien como internet en general para buscar canciones o paginas web para escribir partitura.\n",
        "\n",
        "Tecnología: Si hablamos de guitarra electrica la tecnologia es indispensable y sin ella no existiria. Hoy en dia la mayoria de efectos para la guitarra son digitales y se manejan a traves de un programa. Y en cuanto genero, si bien un estudio reciente confirmo que el 50% de personas que compran guitarras son mujeres, en mi experiencia personal suelo ver muchos mas guitarristas hombres, y sinceramente no pude encontrar la razon.\n",
        "\n",
        "Titulo: Jugar rugby.\n",
        "Diversión: Lo hago desde los 4 años y considero que es parte de mi.\n",
        "\n",
        "Familia: Con mis 2 hermanos mayores pero no jugamos en la misma categoria.\n",
        "\n",
        "Amigos: No lo comparto con amigos pero si con compañeros los dias: martes, jueves y domingo.\n",
        "\n",
        "Medios: Normalmente encuentro informacion de rugby por youtube e instagram.\n",
        "\n",
        "Tecnología: La tecnologia ayudo a que se conozca mas y que haya mas publicidad, es realizado por mas hombres que mujeres. '''\n",
        "\n",
        "\n",
        "#separar el texto en palabras usando split con el caracter \":\"\n",
        "txt = texto_completo.split(\":\")\n",
        "print(txt)\n",
        "#indicar la longitud de la nueva variable\n",
        "print(\"la longitudes de:\",len(txt))"
      ],
      "metadata": {
        "id": "PFP_9FYP5eFG",
        "colab": {
          "base_uri": "https://localhost:8080/"
        },
        "outputId": "fb2b53bc-c38f-48eb-f4b6-db6402384200"
      },
      "execution_count": null,
      "outputs": [
        {
          "output_type": "stream",
          "name": "stdout",
          "text": [
            "[' Título', ' Ver Películas', '\\nDiversión', ' Disfruto ver películas porque me permite crear un momento de paz y tranquilidad con mi familia luego de que vengan del trabajo.\\n\\nFamilia', ' Mi hermano y yo compartimos este hobby mas que con el resto de la familia porque tenemos gustos parecidos aunque con el resto de la familia vemos peliculas los fines de semana.\\n\\nAmigos', ' de vez en cuando me junto con unos amigos para ver peliculas wue elegimos entre todos.\\n\\nMedios', ' Busco información sobre películas en youtube para ver reseñas y encontrar recomendaciones ademas, utilizo aplicaciones de streaming como Netflix y Disney+ para ver peliculas en cualquier momento.\\n\\nTecnología', ' La tecnología ha hecho que ver películas sea mas facil con las plataformas de streaming y las aplicaciones moviles se puedo ver peliculas en cualquier lugar que desee tambien es mucho mas facil compartir recomendaciones y discutir sobre las peliculas con amigos. gracias a el acceso a subtítulos y doblajes facilita que las películas sean accesibles para todas las personas siendo un hobby que puede ser disfrutado por personas de todos los géneros y la tecnología ha contribuido a hacerlo más accesible y diverso.\\n\\nTitulo', ' Tocar la Guitarra\\nDiversión', ' Me gusta ya que con el paso del tiempo empezas a poder tocar las canciones que te gustan, asi tambien te ayuda a comprender un poco mejor la musica en general y conocer nuevos generos.\\n\\nFamilia', ' Comparto este hobby con mi papa que toca la bateria, gracias a el puedo tocar de vez en cuando con alguna otra banda.\\n\\nAmigos', ' Si bien mis amigos tocan un poco el piano no compartimos mucho gusto musical asi que nunca tocamos.\\n\\nMedios', ' Youtube es muy util para los tutoriales, asi tambien como internet en general para buscar canciones o paginas web para escribir partitura.\\n\\nTecnología', ' Si hablamos de guitarra electrica la tecnologia es indispensable y sin ella no existiria. Hoy en dia la mayoria de efectos para la guitarra son digitales y se manejan a traves de un programa. Y en cuanto genero, si bien un estudio reciente confirmo que el 50% de personas que compran guitarras son mujeres, en mi experiencia personal suelo ver muchos mas guitarristas hombres, y sinceramente no pude encontrar la razon.\\n\\nTitulo', ' Jugar rugby.\\nDiversión', ' Lo hago desde los 4 años y considero que es parte de mi.\\n\\nFamilia', ' Con mis 2 hermanos mayores pero no jugamos en la misma categoria.\\n\\nAmigos', ' No lo comparto con amigos pero si con compañeros los dias', ' martes, jueves y domingo.\\n\\nMedios', ' Normalmente encuentro informacion de rugby por youtube e instagram.\\n\\nTecnología', ' La tecnologia ayudo a que se conozca mas y que haya mas publicidad, es realizado por mas hombres que mujeres. ']\n",
            "<class 'list'>\n",
            "la longitudes de: 21\n"
          ]
        }
      ]
    },
    {
      "cell_type": "markdown",
      "source": [
        "También  se puede usar el método **splitlines()** para separar por cada nueva línea\n",
        "```python\n",
        "texto_ejemplo.splitlines()\n",
        "```"
      ],
      "metadata": {
        "id": "Sf2wlKRMMkB6"
      }
    },
    {
      "cell_type": "markdown",
      "source": [
        "* Generar una nueva variable que guarde el contenido de la variable texto_completo separandolo por nueva línea\n",
        "* Recorrer la lista y encontrar los elementos que contienen el carater \":\".\n",
        "* Consulte la estructura **for** y el **if** en python."
      ],
      "metadata": {
        "id": "Ufy8fwXfO2io"
      }
    },
    {
      "cell_type": "code",
      "source": [
        "# ejemplo del uso del for\n",
        "mi_lista =['a','b','c','d','e','f','g','h']\n",
        "for i in mi_lista:\n",
        "  print(i)"
      ],
      "metadata": {
        "colab": {
          "base_uri": "https://localhost:8080/"
        },
        "id": "YxNomJaGQ696",
        "outputId": "9cb03c82-b5b1-456b-f79f-f423b517101f"
      },
      "execution_count": null,
      "outputs": [
        {
          "output_type": "stream",
          "name": "stdout",
          "text": [
            "a\n",
            "b\n",
            "c\n",
            "d\n",
            "e\n",
            "f\n",
            "g\n",
            "h\n"
          ]
        }
      ]
    },
    {
      "cell_type": "code",
      "source": [
        "texto_completo = ''' Título: Ver Películas:\n",
        "Diversión: Disfruto ver películas porque me permite crear un momento de paz y tranquilidad con mi familia luego de que vengan del trabajo.\n",
        "\n",
        "Familia: Mi hermano y yo compartimos este hobby mas que con el resto de la familia porque tenemos gustos parecidos aunque con el resto de la familia vemos peliculas los fines de semana.\n",
        "\n",
        "Amigos: de vez en cuando me junto con unos amigos para ver peliculas wue elegimos entre todos.\n",
        "\n",
        "Medios: Busco información sobre películas en youtube para ver reseñas y encontrar recomendaciones ademas, utilizo aplicaciones de streaming como Netflix y Disney+ para ver peliculas en cualquier momento.\n",
        "\n",
        "Tecnología: La tecnología ha hecho que ver películas sea mas facil con las plataformas de streaming y las aplicaciones moviles se puedo ver peliculas en cualquier lugar que desee tambien es mucho mas facil compartir recomendaciones y discutir sobre las peliculas con amigos. gracias a el acceso a subtítulos y doblajes facilita que las películas sean accesibles para todas las personas siendo un hobby que puede ser disfrutado por personas de todos los géneros y la tecnología ha contribuido a hacerlo más accesible y diverso.\n",
        "\n",
        "Titulo: Tocar la Guitarra\n",
        "Diversión: Me gusta ya que con el paso del tiempo empezas a poder tocar las canciones que te gustan, asi tambien te ayuda a comprender un poco mejor la musica en general y conocer nuevos generos.\n",
        "\n",
        "Familia: Comparto este hobby con mi papa que toca la bateria, gracias a el puedo tocar de vez en cuando con alguna otra banda.\n",
        "\n",
        "Amigos: Si bien mis amigos tocan un poco el piano no compartimos mucho gusto musical asi que nunca tocamos.\n",
        "\n",
        "Medios: Youtube es muy util para los tutoriales, asi tambien como internet en general para buscar canciones o paginas web para escribir partitura.\n",
        "\n",
        "Tecnología: Si hablamos de guitarra electrica la tecnologia es indispensable y sin ella no existiria. Hoy en dia la mayoria de efectos para la guitarra son digitales y se manejan a traves de un programa. Y en cuanto genero, si bien un estudio reciente confirmo que el 50% de personas que compran guitarras son mujeres, en mi experiencia personal suelo ver muchos mas guitarristas hombres, y sinceramente no pude encontrar la razon.\n",
        "\n",
        "Titulo: Jugar rugby.\n",
        "Diversión: Lo hago desde los 4 años y considero que es parte de mi.\n",
        "\n",
        "Familia: Con mis 2 hermanos mayores pero no jugamos en la misma categoria.\n",
        "\n",
        "Amigos: No lo comparto con amigos pero si con compañeros los dias: martes, jueves y domingo.\n",
        "\n",
        "Medios: Normalmente encuentro informacion de rugby por youtube e instagram.\n",
        "\n",
        "Tecnología: La tecnologia ayudo a que se conozca mas y que haya mas publicidad, es realizado por mas hombres que mujeres.'''\n",
        "#completar acá con el código que permite separar por nueva línea la variable texto_completo, guarde el resultado en una nueva variable\n",
        "txt = texto_completo.splitlines()\n",
        "#recorrer  la nueva variable imprimiendo cada elemento de la lista\n",
        "for I in txt:\n",
        "  print(I)\n",
        "longitud = len(txt)\n",
        "print(\"la longitud es de:\",longitud)\n",
        "#indicar longitud de la nueva variable\n"
      ],
      "metadata": {
        "id": "_AXZG7MKRQji",
        "colab": {
          "base_uri": "https://localhost:8080/"
        },
        "outputId": "eee375e5-fc9f-4dbc-ff02-723ac369ce1e"
      },
      "execution_count": null,
      "outputs": [
        {
          "output_type": "stream",
          "name": "stdout",
          "text": [
            " Título: Ver Películas:\n",
            "Diversión: Disfruto ver películas porque me permite crear un momento de paz y tranquilidad con mi familia luego de que vengan del trabajo.\n",
            "\n",
            "Familia: Mi hermano y yo compartimos este hobby mas que con el resto de la familia porque tenemos gustos parecidos aunque con el resto de la familia vemos peliculas los fines de semana.\n",
            "\n",
            "Amigos: de vez en cuando me junto con unos amigos para ver peliculas wue elegimos entre todos.\n",
            "\n",
            "Medios: Busco información sobre películas en youtube para ver reseñas y encontrar recomendaciones ademas, utilizo aplicaciones de streaming como Netflix y Disney+ para ver peliculas en cualquier momento.\n",
            "\n",
            "Tecnología: La tecnología ha hecho que ver películas sea mas facil con las plataformas de streaming y las aplicaciones moviles se puedo ver peliculas en cualquier lugar que desee tambien es mucho mas facil compartir recomendaciones y discutir sobre las peliculas con amigos. gracias a el acceso a subtítulos y doblajes facilita que las películas sean accesibles para todas las personas siendo un hobby que puede ser disfrutado por personas de todos los géneros y la tecnología ha contribuido a hacerlo más accesible y diverso.\n",
            "\n",
            "Titulo: Tocar la Guitarra\n",
            "Diversión: Me gusta ya que con el paso del tiempo empezas a poder tocar las canciones que te gustan, asi tambien te ayuda a comprender un poco mejor la musica en general y conocer nuevos generos.\n",
            "\n",
            "Familia: Comparto este hobby con mi papa que toca la bateria, gracias a el puedo tocar de vez en cuando con alguna otra banda.\n",
            "\n",
            "Amigos: Si bien mis amigos tocan un poco el piano no compartimos mucho gusto musical asi que nunca tocamos.\n",
            "\n",
            "Medios: Youtube es muy util para los tutoriales, asi tambien como internet en general para buscar canciones o paginas web para escribir partitura.\n",
            "\n",
            "Tecnología: Si hablamos de guitarra electrica la tecnologia es indispensable y sin ella no existiria. Hoy en dia la mayoria de efectos para la guitarra son digitales y se manejan a traves de un programa. Y en cuanto genero, si bien un estudio reciente confirmo que el 50% de personas que compran guitarras son mujeres, en mi experiencia personal suelo ver muchos mas guitarristas hombres, y sinceramente no pude encontrar la razon.\n",
            "\n",
            "Titulo: Jugar rugby.\n",
            "Diversión: Lo hago desde los 4 años y considero que es parte de mi.\n",
            "\n",
            "Familia: Con mis 2 hermanos mayores pero no jugamos en la misma categoria.\n",
            "\n",
            "Amigos: No lo comparto con amigos pero si con compañeros los dias: martes, jueves y domingo.\n",
            "\n",
            "Medios: Normalmente encuentro informacion de rugby por youtube e instagram.\n",
            "\n",
            "Tecnología: La tecnologia ayudo a que se conozca mas y que haya mas publicidad, es realizado por mas hombres que mujeres.\n",
            "la longitud es de: 32\n",
            "<class 'list'>\n"
          ]
        }
      ]
    },
    {
      "cell_type": "markdown",
      "source": [],
      "metadata": {
        "id": "sBhNPldVgGJq"
      }
    },
    {
      "cell_type": "markdown",
      "source": [
        "## Contestar las siguientes consultas:\n",
        "* ¿Qué elementos les parece que no sería necesario guardar en la lista?\n",
        "---\n",
        "* Respuesta:  no sería necesario guardar en la lista, todos aquellos que no contienen el carácter \":\" ya que no tienen información relevante.\n",
        "---\n",
        "* ¿Todos los elementos, de la nueva variable que usó para guardar el resultado de separar por cada nueva línea, contienen texto?\n",
        "---\n",
        "* Respuesta: No todos los elementos de la nueva variable que contiene las líneas separadas contienen texto, algunas líneas pueden estar vacías.\n",
        "---\n",
        "* La estructura condicional de python  permite saber si un elemento de la lista, que se está recorriendo, contiene el caracter \":\"?\n",
        "---\n",
        "* Respuesta: si lo permite\n",
        "```python\n",
        "if \":\" in i:\n",
        "      print(\"está\")\n",
        "```\n",
        "* ¿Cómo se denomina la parte de la estructura condicional?\n",
        "```python\n",
        "\":\" in i\n",
        "```\n",
        "* Recorra la lista consultando si en la línea que se encuentra contiene el caracter \":\"\n"
      ],
      "metadata": {
        "id": "OqJVlmZER5JV"
      }
    },
    {
      "cell_type": "code",
      "source": [
        "#completar con el código que recorre la variable lista e imprime por pantalla las líneas que contiene \":\"\n",
        "texto_completo = '''Leandro:\n",
        " Título: Ver Películas:\n",
        "Diversión: Disfruto ver películas porque me permite crear un momento de paz y tranquilidad con mi familia luego de que vengan del trabajo.\n",
        "\n",
        "Familia: Mi hermano y yo compartimos este hobby mas que con el resto de la familia porque tenemos gustos parecidos aunque con el resto de la familia vemos peliculas los fines de semana.\n",
        "\n",
        "Amigos: de vez en cuando me junto con unos amigos para ver peliculas wue elegimos entre todos.\n",
        "\n",
        "Medios: Busco información sobre películas en youtube para ver reseñas y encontrar recomendaciones ademas, utilizo aplicaciones de streaming como Netflix y Disney+ para ver peliculas en cualquier momento.\n",
        "\n",
        "Tecnología: La tecnología ha hecho que ver películas sea mas facil con las plataformas de streaming y las aplicaciones moviles se puedo ver peliculas en cualquier lugar que desee tambien es mucho mas facil compartir recomendaciones y discutir sobre las peliculas con amigos. gracias a el acceso a subtítulos y doblajes facilita que las películas sean accesibles para todas las personas siendo un hobby que puede ser disfrutado por personas de todos los géneros y la tecnología ha contribuido a hacerlo más accesible y diverso.\n",
        "Uziel:\n",
        "Titulo: Tocar la Guitarra\n",
        "Diversión: Me gusta ya que con el paso del tiempo empezas a poder tocar las canciones que te gustan, asi tambien te ayuda a comprender un poco mejor la musica en general y conocer nuevos generos.\n",
        "\n",
        "Familia: Comparto este hobby con mi papa que toca la bateria, gracias a el puedo tocar de vez en cuando con alguna otra banda.\n",
        "\n",
        "Amigos: Si bien mis amigos tocan un poco el piano no compartimos mucho gusto musical asi que nunca tocamos.\n",
        "\n",
        "Medios: Youtube es muy util para los tutoriales, asi tambien como internet en general para buscar canciones o paginas web para escribir partitura.\n",
        "\n",
        "Tecnología: Si hablamos de guitarra electrica la tecnologia es indispensable y sin ella no existiria. Hoy en dia la mayoria de efectos para la guitarra son digitales y se manejan a traves de un programa. Y en cuanto genero, si bien un estudio reciente confirmo que el 50% de personas que compran guitarras son mujeres, en mi experiencia personal suelo ver muchos mas guitarristas hombres, y sinceramente no pude encontrar la razon.\n",
        "Ignacio:\n",
        "Titulo: Jugar rugby.\n",
        "Diversión: Lo hago desde los 4 años y considero que es parte de mi.\n",
        "\n",
        "Familia: Con mis 2 hermanos mayores pero no jugamos en la misma categoria.\n",
        "\n",
        "Amigos: No lo comparto con amigos pero si con compañeros los dias: martes, jueves y domingo.\n",
        "\n",
        "Medios: Normalmente encuentro informacion de rugby por youtube e instagram.\n",
        "\n",
        "Tecnología: La tecnologia ayudo a que se conozca mas y que haya mas publicidad, es realizado por mas hombres que mujeres. '''\n",
        "lineas_separadas = texto_completo.splitlines()\n",
        "for linea in lineas_separadas:\n",
        "    if \":\" in linea:\n",
        "        print(linea)\n"
      ],
      "metadata": {
        "id": "PrSXHjecb5Lw"
      },
      "execution_count": null,
      "outputs": []
    },
    {
      "cell_type": "markdown",
      "source": [],
      "metadata": {
        "id": "qM2jFKpjIC6W"
      }
    },
    {
      "cell_type": "markdown",
      "source": [
        "\n",
        "1. Indicar qué tipos de datos se utilizaron en este documento.\n",
        "2. Por cada tipo de datos de los ejemplos, indique cuáles son las variables utilizadas en esta actividad de ese tipo.\n",
        "3. ¿Qué estructuras de datos que permite almacenar más de un elemento, utilizó en esta actividad? De los nombres de las variables que correspondan a este tipo de datos.\n",
        "4. Investigar en chatgpt: ¿qué estructura podría ser más eficiente utilizar para guardar datos que estén relacionados entre sí y el acceso a ciertas claves sea directo sin tener que recorrer la estructura?\n",
        "5. ¿Cómo se podría guardar los datos de los hobbies para poder acceder directamente a las respuestas de cada integrante? ¿qué estructura y cómo la armaría? Indicar cómo le quedaría sin hacerlo en python sino escribiendo la forma de cómo quedaría."
      ],
      "metadata": {
        "id": "GZCJ7WEmBL4I"
      }
    },
    {
      "cell_type": "markdown",
      "source": [],
      "metadata": {
        "id": "3QyJ1h3gq6sr"
      }
    },
    {
      "cell_type": "markdown",
      "source": [],
      "metadata": {
        "id": "cSgbCUHbqD33"
      }
    },
    {
      "cell_type": "markdown",
      "source": [
        "1. El tipo de dato utilizado en este documento fue de intigers, strings y listas de strings con: .split() y .splitlines()\n",
        "---\n",
        "2. Intigers: longitud_lista = len, len(txt), longitud = len(txt)\n",
        "\n",
        "  Strings: texto_completo, texto_ejemplo\n",
        "  \n",
        "  Listas: palabras_separadas, lista_palabras, palabras_sin_espacio, txt, lineas_separadas\n",
        "---\n",
        "3. Las estructuras de datos que te permiten almacenar mas de un elemento fueron las listas (mi_lista =['a','b','c','d','e','f','g','h']) y los metodos .split() y .splitlines(), que funcionan creando listas a base de ciertas condiciones.\n",
        "---\n",
        "4. segun chatgpt Una estructura de datos que podría ser más eficiente para guardar datos\n",
        " relacionados entre sí y permitir un acceso directo a ciertas claves sin tener que recorrer toda la estructura es el diccionario en Python.\n",
        "\n",
        " En Python, un diccionario es una estructura de datos que almacena pares clave-valor, donde cada clave es única y se utiliza para acceder a su valor correspondiente de forma eficiente. Los diccionarios en Python están implementados con tablas hash, lo que proporciona un acceso rápido a los valores asociados a cada clave.\n",
        "\n",
        " Dado que los diccionarios utilizan tablas hash para almacenar los pares clave-valor, el acceso a los valores a través de las claves es casi instantáneo, incluso para grandes conjuntos de datos. Esto hace que los diccionarios sean ideales cuando necesitas una estructura de datos eficiente para buscar, insertar y eliminar elementos por clave.\n",
        "\n",
        " Aquí hay un ejemplo de cómo se utiliza un diccionario en Python:\n",
        "```python\n",
        "  # Crear un diccionario con datos relacionados\n",
        "  datos = {\n",
        "    \"clave1\": \"valor1\",\n",
        "    \"clave2\": \"valor2\",\n",
        "    \"clave3\": \"valor3\"\n",
        "    }\n",
        "\n",
        "  # Acceder a un valor directamente mediante su clave\n",
        "  print(datos[\"clave2\"])  # Imprime: valor2\n",
        "\n",
        "  # Agregar un nuevo par clave-valor\n",
        "  datos[\"clave4\"] = \"valor4\"\n",
        "\n",
        "  # Eliminar un par clave-valor\n",
        "  del datos[\"clave1\"]\n",
        "```\n",
        " En este ejemplo, el acceso a los valores asociados a las claves se realiza directamente sin tener que recorrer toda la estructura del diccionario. Esto hace que los diccionarios sean una opción eficiente para almacenar datos relacionados cuando se necesita un acceso rápido a los valores por clave.\n",
        "---\n",
        "5. Podemos usar un diccionario para organizar los hobbies de cada persona. Cada amigo tiene su propia entrada en el diccionario, donde la clave es su nombre y el valor es una lista de sus hobbies. Esto nos permite acceder directamente a los hobbies de cualquier persona sin tener que revisar toda la lista de amigos."
      ],
      "metadata": {
        "id": "2SLWkcSKZMdp"
      }
    },
    {
      "cell_type": "markdown",
      "source": [
        "## Tips de manejo de string\n",
        "* Utiliza la función split() para dividir el texto en palabras. Por ejemplo, texto.split() devolverá una lista de palabras.\n",
        "\n",
        "* Utiliza la función strip() para eliminar espacios en blanco al inicio y al final del texto. Por ejemplo, texto.strip() devolverá el texto sin espacios en blanco innecesarios.\n",
        "\n",
        "* Utiliza el método splitlines() para dividir el texto en líneas. Por ejemplo, texto.splitlines() devolverá una lista de líneas.\n",
        "\n",
        "* Utiliza el método replace() para reemplazar una subcadena por otra en un string. Por ejemplo, \"Hola mundo\".replace(\"mundo\", \"amigos\") devolverá el string \"Hola amigos\".\n",
        "\n",
        "* Utiliza el módulo string para manipular texto de forma eficiente. Por ejemplo, string.ascii_lowercase devolverá una cadena de texto con todas las letras minúsculas del alfabeto.\n",
        "\n",
        "* Utiliza la función startswith() para comprobar si una cadena de texto empieza con un determinado prefijo. Por ejemplo, texto.startswith('Hola') devolverá True si el texto empieza con la palabra \"Hola\".\n",
        "\n",
        "* Utiliza la función endswith() para comprobar si una cadena de texto termina con un determinado sufijo. Por ejemplo, texto.endswith('mundo') devolverá True si el texto termina con la palabra \"mundo\".\n",
        "\n",
        "* Utiliza la función isalpha() para comprobar si una cadena de texto contiene solamente letras. Por ejemplo, texto.isalpha() devolverá True si el texto contiene solamente letras.\n",
        "\n",
        "* Utiliza la función isdigit() para comprobar si una cadena de texto contiene solamente números. Por ejemplo, texto.isdigit() devolverá True si el texto contiene solamente números.\n",
        "\n"
      ],
      "metadata": {
        "id": "KAD0Vv2o8xQV"
      }
    }
  ]
}