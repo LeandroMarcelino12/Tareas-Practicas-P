{
  "cells": [
    {
      "cell_type": "markdown",
      "metadata": {
        "id": "view-in-github",
        "colab_type": "text"
      },
      "source": [
        "<a href=\"https://colab.research.google.com/github/PokerMonkey12/Tareas-Practicas-P/blob/main/Actividad_3.ipynb\" target=\"_parent\"><img src=\"https://colab.research.google.com/assets/colab-badge.svg\" alt=\"Open In Colab\"/></a>"
      ]
    },
    {
      "cell_type": "markdown",
      "metadata": {
        "id": "Vdl_txP_7LtD"
      },
      "source": [
        "\n",
        "# Prácticas Profesionalizantes 2024\n",
        "EEST 9\n",
        "\n",
        "# Actividad 3"
      ]
    },
    {
      "cell_type": "markdown",
      "metadata": {
        "id": "Pxb1o18H7UKU"
      },
      "source": [
        "## Trabajo en grupo entre 2 o 3 estudiantes\n",
        "Indicar los nombres y los links de los repositorios de la actividad 3 de los integrantes:\n",
        "* Leandro Marcelino- repositorio:https://github.com/PokerMonkey12/mi_hobby\n",
        "* Uziel Goral- repositorio:https://github.com/uzigoral/mi_hobby\n",
        "* Ignacio Tessari- repositorio:https://github.com/IgnacioTessari/mi_hobby"
      ]
    },
    {
      "cell_type": "markdown",
      "metadata": {
        "id": "kufnxVG474V2"
      },
      "source": [
        "# Python y Colab\n",
        "* Se utilizará **Python** y este documento de **Google Colab** para resolver el ejercicio.\n",
        "* Para que la tarea se considere entregada se deberá poner el link del documento colab, con las soluciones, en la tarea de **todos** los integrantes.\n",
        "\n",
        "El ejercicio es **procesar texto** largo para identificar líneas, caracteres específicos y generar un diccionario con los nombres de los integrantes.\n",
        "\n",
        "1. Se deberá realizar una **copia** de este documento antes de comenzar a modificar\n",
        "2. A lo largo del documetno se pedirá que responda preguntas y realice código, completar en la copia realizada con lo solicitado.\n",
        "3. Copiar el texto de los archivos subidos en los repositorios individuales utilizados en la actividad 1,  de cada integrante de este grupo en una sola **variable de texto.**\n",
        "4. Antes del texto de cada integrante se deberá poner el nombre correspondiente y luego agregar el caracter *\n"
      ]
    },
    {
      "cell_type": "markdown",
      "metadata": {
        "id": "0FVpFUsJMpGJ"
      },
      "source": [
        "Respetar el siguiente formato del texto para guardarlo de esa forma en la variable:\n",
        "\n",
        "Nombre1*\n",
        "\n",
        "Título:\n",
        "\n",
        "Diversión:\n",
        "\n",
        "Familia:\n",
        "\n",
        "Amigos:\n",
        "\n",
        "Medios:\n",
        "\n",
        "Tecnología:\n",
        "\n",
        "Nombre2*"
      ]
    },
    {
      "cell_type": "code",
      "execution_count": null,
      "metadata": {
        "id": "_y9xVFhj9Heq"
      },
      "outputs": [],
      "source": [
        "# completar con sus textos\n",
        "texto_completo = '''\n",
        "Leandro*\n",
        "Título: Ver Películas:\n",
        "Dinversión: Disfruto ver películas porque me permite crear un momento de paz y tranquilidad con mi familia luego de que vengan del trabajo.\n",
        "\n",
        "Familia: Mi hermano y yo compartimos este hobby mas que con el resto de la familia porque tenemos gustos parecidos aunque con el resto de la familia vemos peliculas los fines de semana.\n",
        "\n",
        "Amigos: de vez en cuando me junto con unos amigos para ver peliculas wue elegimos entre todos.\n",
        "\n",
        "Medios: Busco información sobre películas en youtube para ver reseñas y encontrar recomendaciones ademas, utilizo aplicaciones de streaming como Netflix y Disney+ para ver peliculas en cualquier momento.\n",
        "\n",
        "Tecnología: La tecnología ha hecho que ver películas sea mas facil con las plataformas de streaming y las aplicaciones moviles se puedo ver peliculas en cualquier lugar que desee tambien es mucho mas facil compartir recomendaciones y discutir sobre las peliculas con amigos. gracias a el acceso a subtítulos y doblajes facilita que las películas sean accesibles para todas las personas siendo un hobby que puede ser disfrutado por personas de todos los géneros y la tecnología ha contribuido a hacerlo más accesible y diverso.\n",
        "Uziel*\n",
        "Titulo: Tocar la Guitarra\n",
        "Diversión: Me gusta ya que con el paso del tiempo empezas a poder tocar las canciones que te gustan, asi tambien te ayuda a comprender un poco mejor la musica en general y conocer nuevos generos.\n",
        "\n",
        "Familia: Comparto este hobby con mi papa que toca la bateria, gracias a el puedo tocar de vez en cuando con alguna otra banda.\n",
        "\n",
        "Amigos: Si bien mis amigos tocan un poco el piano no compartimos mucho gusto musical asi que nunca tocamos.\n",
        "\n",
        "Medios: Youtube es muy util para los tutoriales, asi tambien como internet en general para buscar canciones o paginas web para escribir partitura.\n",
        "\n",
        "Tecnología: Si hablamos de guitarra electrica la tecnologia es indispensable y sin ella no existiria. Hoy en dia la mayoria de efectos para la guitarra son digitales y se manejan a traves de un programa. Y en cuanto genero, si bien un estudio reciente confirmo que el 50% de personas que compran guitarras son mujeres, en mi experiencia personal suelo ver muchos mas guitarristas hombres, y sinceramente no pude encontrar la razon.\n",
        "Tessari*\n",
        "Titulo: Jugar rugby.\n",
        "Diversión: Lo hago desde los 4 años y considero que es parte de mi.\n",
        "\n",
        "Familia: Con mis 2 hermanos mayores pero no jugamos en la misma categoria.\n",
        "\n",
        "Amigos: No lo comparto con amigos pero si con compañeros los dias: martes, jueves y domingo.\n",
        "\n",
        "Medios: Normalmente encuentro informacion de rugby por youtube e instagram.\n",
        "\n",
        "Tecnología: La tecnologia ayudo a que se conozca mas y que haya mas publicidad, es realizado por mas hombres que mujeres.\n",
        " '''"
      ]
    },
    {
      "cell_type": "markdown",
      "metadata": {
        "id": "VehRQ8fHNTTe"
      },
      "source": [
        "## Procesamiento\n",
        "* Procesar la variable de texto y generar una estructura que permita acceder directamente con el nombre del integrante:\n",
        "\n",
        "**Nombre1**: **texto del hobby**\n",
        "* Nota: Para guardar la key con el nombre preguntar si en la línea contiene el caracter \"*\""
      ]
    },
    {
      "cell_type": "markdown",
      "metadata": {
        "id": "NyZsweS_T_83"
      },
      "source": [
        "Para poder concatenar texto debo ir agregando los textos de cada linea, les dejo un ejemplo"
      ]
    },
    {
      "cell_type": "code",
      "execution_count": null,
      "metadata": {
        "colab": {
          "base_uri": "https://localhost:8080/",
          "height": 35
        },
        "id": "WuaOM40fTtW0",
        "outputId": "2a96b56b-4edb-45ad-d17f-0cda5da0fb34"
      },
      "outputs": [
        {
          "data": {
            "application/vnd.google.colaboratory.intrinsic+json": {
              "type": "string"
            },
            "text/plain": [
              "'hola'"
            ]
          },
          "execution_count": 1,
          "metadata": {},
          "output_type": "execute_result"
        }
      ],
      "source": [
        "contenido = ''\n",
        "contenido = contenido + 'hola'\n",
        "contenido"
      ]
    },
    {
      "cell_type": "code",
      "execution_count": null,
      "metadata": {
        "colab": {
          "base_uri": "https://localhost:8080/",
          "height": 35
        },
        "id": "h1a_Lo7dT3SC",
        "outputId": "b85ef91d-419d-4ea2-e83f-ab0efbda13f9"
      },
      "outputs": [
        {
          "data": {
            "application/vnd.google.colaboratory.intrinsic+json": {
              "type": "string"
            },
            "text/plain": [
              "'hola mas texto'"
            ]
          },
          "execution_count": 5,
          "metadata": {},
          "output_type": "execute_result"
        }
      ],
      "source": [
        "contenido = contenido + ' mas texto'\n",
        "contenido"
      ]
    },
    {
      "cell_type": "code",
      "execution_count": null,
      "metadata": {
        "id": "_ddIprgtFkYQ",
        "colab": {
          "base_uri": "https://localhost:8080/"
        },
        "outputId": "6e767f66-12f9-4f0d-bd46-82936895a8ab"
      },
      "outputs": [
        {
          "output_type": "execute_result",
          "data": {
            "text/plain": [
              "{'Leandro': 'Título: Ver Películas:Dinversión: Disfruto ver películas porque me permite crear un momento de paz y tranquilidad con mi familia luego de que vengan del trabajo.Familia: Mi hermano y yo compartimos este hobby mas que con el resto de la familia porque tenemos gustos parecidos aunque con el resto de la familia vemos peliculas los fines de semana.Amigos: de vez en cuando me junto con unos amigos para ver peliculas wue elegimos entre todos.Medios: Busco información sobre películas en youtube para ver reseñas y encontrar recomendaciones ademas, utilizo aplicaciones de streaming como Netflix y Disney+ para ver peliculas en cualquier momento.Tecnología: La tecnología ha hecho que ver películas sea mas facil con las plataformas de streaming y las aplicaciones moviles se puedo ver peliculas en cualquier lugar que desee tambien es mucho mas facil compartir recomendaciones y discutir sobre las peliculas con amigos. gracias a el acceso a subtítulos y doblajes facilita que las películas sean accesibles para todas las personas siendo un hobby que puede ser disfrutado por personas de todos los géneros y la tecnología ha contribuido a hacerlo más accesible y diverso.',\n",
              " 'Uziel': 'Titulo: Tocar la GuitarraDiversión: Me gusta ya que con el paso del tiempo empezas a poder tocar las canciones que te gustan, asi tambien te ayuda a comprender un poco mejor la musica en general y conocer nuevos generos.Familia: Comparto este hobby con mi papa que toca la bateria, gracias a el puedo tocar de vez en cuando con alguna otra banda.Amigos: Si bien mis amigos tocan un poco el piano no compartimos mucho gusto musical asi que nunca tocamos.Medios: Youtube es muy util para los tutoriales, asi tambien como internet en general para buscar canciones o paginas web para escribir partitura.Tecnología: Si hablamos de guitarra electrica la tecnologia es indispensable y sin ella no existiria. Hoy en dia la mayoria de efectos para la guitarra son digitales y se manejan a traves de un programa. Y en cuanto genero, si bien un estudio reciente confirmo que el 50% de personas que compran guitarras son mujeres, en mi experiencia personal suelo ver muchos mas guitarristas hombres, y sinceramente no pude encontrar la razon.',\n",
              " 'Tessari': 'Titulo: Jugar rugby.Diversión: Lo hago desde los 4 años y considero que es parte de mi.Familia: Con mis 2 hermanos mayores pero no jugamos en la misma categoria.Amigos: No lo comparto con amigos pero si con compañeros los dias: martes, jueves y domingo.Medios: Normalmente encuentro informacion de rugby por youtube e instagram.Tecnología: La tecnologia ayudo a que se conozca mas y que haya mas publicidad, es realizado por mas hombres que mujeres. '}"
            ]
          },
          "metadata": {},
          "execution_count": 4
        }
      ],
      "source": [
        "# completar con el código que procesa y genera el diccionario\n",
        "texto= '''\n",
        "Leandro*\n",
        "\n",
        "Título: Ver Películas:\n",
        "\n",
        "Dinversión: Disfruto ver películas porque me permite crear un momento de paz y tranquilidad con mi familia luego de que vengan del trabajo.\n",
        "\n",
        "Familia: Mi hermano y yo compartimos este hobby mas que con el resto de la familia porque tenemos gustos parecidos aunque con el resto de la familia vemos peliculas los fines de semana.\n",
        "\n",
        "Amigos: de vez en cuando me junto con unos amigos para ver peliculas wue elegimos entre todos.\n",
        "\n",
        "Medios: Busco información sobre películas en youtube para ver reseñas y encontrar recomendaciones ademas, utilizo aplicaciones de streaming como Netflix y Disney+ para ver peliculas en cualquier momento.\n",
        "\n",
        "Tecnología: La tecnología ha hecho que ver películas sea mas facil con las plataformas de streaming y las aplicaciones moviles se puedo ver peliculas en cualquier lugar que desee tambien es mucho mas facil compartir recomendaciones y discutir sobre las peliculas con amigos. gracias a el acceso a subtítulos y doblajes facilita que las películas sean accesibles para todas las personas siendo un hobby que puede ser disfrutado por personas de todos los géneros y la tecnología ha contribuido a hacerlo más accesible y diverso.\n",
        "\n",
        "Uziel*\n",
        "\n",
        "Titulo: Tocar la Guitarra\n",
        "\n",
        "Diversión: Me gusta ya que con el paso del tiempo empezas a poder tocar las canciones que te gustan, asi tambien te ayuda a comprender un poco mejor la musica en general y conocer nuevos generos.\n",
        "\n",
        "Familia: Comparto este hobby con mi papa que toca la bateria, gracias a el puedo tocar de vez en cuando con alguna otra banda.\n",
        "\n",
        "Amigos: Si bien mis amigos tocan un poco el piano no compartimos mucho gusto musical asi que nunca tocamos.\n",
        "\n",
        "Medios: Youtube es muy util para los tutoriales, asi tambien como internet en general para buscar canciones o paginas web para escribir partitura.\n",
        "\n",
        "Tecnología: Si hablamos de guitarra electrica la tecnologia es indispensable y sin ella no existiria. Hoy en dia la mayoria de efectos para la guitarra son digitales y se manejan a traves de un programa. Y en cuanto genero, si bien un estudio reciente confirmo que el 50% de personas que compran guitarras son mujeres, en mi experiencia personal suelo ver muchos mas guitarristas hombres, y sinceramente no pude encontrar la razon.\n",
        "\n",
        "Tessari*\n",
        "\n",
        "Titulo: Jugar rugby.\n",
        "\n",
        "Diversión: Lo hago desde los 4 años y considero que es parte de mi.\n",
        "\n",
        "Familia: Con mis 2 hermanos mayores pero no jugamos en la misma categoria.\n",
        "\n",
        "Amigos: No lo comparto con amigos pero si con compañeros los dias: martes, jueves y domingo.\n",
        "\n",
        "Medios: Normalmente encuentro informacion de rugby por youtube e instagram.\n",
        "\n",
        "Tecnología: La tecnologia ayudo a que se conozca mas y que haya mas publicidad, es realizado por mas hombres que mujeres.\n",
        " '''\n",
        "hobby = ''\n",
        "#separo en líneas la variable de texto\n",
        "lista_lineas = texto.splitlines()\n",
        "#creo mi diccionario\n",
        "mi_dict= {}\n",
        "# recorro la variable con los elementos, encontrando las líneas que contiene el caracter *\n",
        "for i in lista_lineas:\n",
        "  if '*' in i:\n",
        "      integrante = i.replace('*', '')\n",
        "      mi_dict[integrante] = ''\n",
        "      hobby = integrante\n",
        "  # si la linea no contiene * voy agregando a una variable de texto el contenido de ese hobby\n",
        "  else:\n",
        "    if hobby:\n",
        "      mi_dict[integrante]+= i\n",
        "mi_dict"
      ]
    },
    {
      "cell_type": "markdown",
      "metadata": {
        "id": "fz3ki8y7S2qR"
      },
      "source": [
        "* Indicar cuáles son las keys y cuáles los valores del diccionario"
      ]
    },
    {
      "cell_type": "code",
      "execution_count": null,
      "metadata": {
        "colab": {
          "base_uri": "https://localhost:8080/"
        },
        "id": "V9VNRJnvS8lj",
        "outputId": "e7783719-4eca-4191-c7a5-8374367a2471"
      },
      "outputs": [
        {
          "output_type": "stream",
          "name": "stdout",
          "text": [
            "Leandro\n",
            "Título: Ver Películas:Dinversión: Disfruto ver películas porque me permite crear un momento de paz y tranquilidad con mi familia luego de que vengan del trabajo.Familia: Mi hermano y yo compartimos este hobby mas que con el resto de la familia porque tenemos gustos parecidos aunque con el resto de la familia vemos peliculas los fines de semana.Amigos: de vez en cuando me junto con unos amigos para ver peliculas wue elegimos entre todos.Medios: Busco información sobre películas en youtube para ver reseñas y encontrar recomendaciones ademas, utilizo aplicaciones de streaming como Netflix y Disney+ para ver peliculas en cualquier momento.Tecnología: La tecnología ha hecho que ver películas sea mas facil con las plataformas de streaming y las aplicaciones moviles se puedo ver peliculas en cualquier lugar que desee tambien es mucho mas facil compartir recomendaciones y discutir sobre las peliculas con amigos. gracias a el acceso a subtítulos y doblajes facilita que las películas sean accesibles para todas las personas siendo un hobby que puede ser disfrutado por personas de todos los géneros y la tecnología ha contribuido a hacerlo más accesible y diverso.\n",
            "Uziel\n",
            "Titulo: Tocar la GuitarraDiversión: Me gusta ya que con el paso del tiempo empezas a poder tocar las canciones que te gustan, asi tambien te ayuda a comprender un poco mejor la musica en general y conocer nuevos generos.Familia: Comparto este hobby con mi papa que toca la bateria, gracias a el puedo tocar de vez en cuando con alguna otra banda.Amigos: Si bien mis amigos tocan un poco el piano no compartimos mucho gusto musical asi que nunca tocamos.Medios: Youtube es muy util para los tutoriales, asi tambien como internet en general para buscar canciones o paginas web para escribir partitura.Tecnología: Si hablamos de guitarra electrica la tecnologia es indispensable y sin ella no existiria. Hoy en dia la mayoria de efectos para la guitarra son digitales y se manejan a traves de un programa. Y en cuanto genero, si bien un estudio reciente confirmo que el 50% de personas que compran guitarras son mujeres, en mi experiencia personal suelo ver muchos mas guitarristas hombres, y sinceramente no pude encontrar la razon.\n",
            "Tessari\n",
            "Titulo: Jugar rugby.Diversión: Lo hago desde los 4 años y considero que es parte de mi.Familia: Con mis 2 hermanos mayores pero no jugamos en la misma categoria.Amigos: No lo comparto con amigos pero si con compañeros los dias: martes, jueves y domingo.Medios: Normalmente encuentro informacion de rugby por youtube e instagram.Tecnología: La tecnologia ayudo a que se conozca mas y que haya mas publicidad, es realizado por mas hombres que mujeres. \n"
          ]
        }
      ],
      "source": [
        "#completar con el ćodigo\n",
        "for integrante in mi_dict:\n",
        "  print(integrante)\n",
        "  print(mi_dict[integrante])"
      ]
    },
    {
      "cell_type": "markdown",
      "metadata": {
        "id": "GhafOMUlNuNi"
      },
      "source": [
        "* Indicar la longitud del diccionario\n"
      ]
    },
    {
      "cell_type": "code",
      "execution_count": null,
      "metadata": {
        "id": "NbxzdmPRSPTN",
        "colab": {
          "base_uri": "https://localhost:8080/"
        },
        "outputId": "d9a3bfe3-b6b5-429a-890a-18550222dc02"
      },
      "outputs": [
        {
          "output_type": "stream",
          "name": "stdout",
          "text": [
            "Leandro\n",
            "1169\n",
            "Uziel\n",
            "1030\n",
            "Tessari\n",
            "450\n"
          ]
        }
      ],
      "source": [
        "#completar con el código para indicar la longitud\n",
        "mayor_caracteres = (\"\", 0)\n",
        "for integrante in mi_dict:\n",
        "  print(integrante)\n",
        "  print(len(mi_dict[integrante]))\n",
        "\n",
        "\n",
        "\n",
        "\n",
        "\n"
      ]
    },
    {
      "cell_type": "markdown",
      "metadata": {
        "id": "FPtyX2FySIRw"
      },
      "source": [
        "* Indicar qué integrante tiene el texto más largo.\n",
        "\n",
        "Completar el código para encontrar la solución"
      ]
    },
    {
      "cell_type": "code",
      "execution_count": null,
      "metadata": {
        "id": "lrdKO2PMN0xo",
        "colab": {
          "base_uri": "https://localhost:8080/"
        },
        "outputId": "db0fe853-4085-49bc-a401-ef64c972e3d5"
      },
      "outputs": [
        {
          "output_type": "stream",
          "name": "stdout",
          "text": [
            "La persona con mayor caracteres es Leandro con 1169 caracteres\n"
          ]
        }
      ],
      "source": [
        "# recorro el diccionario\n",
        "mayor_caracteres = (\"\", 0)\n",
        "for integrante in mi_dict:\n",
        "  nombre_caracteres = (integrante, len(mi_dict[integrante]))\n",
        "  if nombre_caracteres[1] >= mayor_caracteres[1]:\n",
        "    mayor_caracteres = nombre_caracteres\n",
        "\n",
        "print(\"La persona con mayor caracteres es\", mayor_caracteres[0], \"con\", mayor_caracteres[1], \"caracteres\")\n",
        "  #consulto si el valor asociado en esa key es mayor que un valor maximo\n",
        "  # si es mayor actualizo la variable"
      ]
    },
    {
      "cell_type": "markdown",
      "metadata": {
        "id": "GZCJ7WEmBL4I"
      },
      "source": [
        "### Contestar\n",
        "1. Indicar qué tipos de datos se utilizaron en este documento.\n",
        "2. Por cada tipo de datos de los ejemplos, indique cuáles son las variables utilizadas en esta actividad de ese tipo.\n",
        "3. ¿Qué estructuras de datos que permite almacenar más de un elemento, utilizó en esta actividad? De los nombres de las variables que correspondan a este tipo de datos.\n",
        "4. ¿Qué estructuras de control utilizó?\n",
        "5. Investigar en chatgpt: ¿Qué tipos de archivos se pueden utilizar para guardar datos? Indique los formatos y las librerías que deben importarse para poder usar.\n",
        "----\n",
        "## Respuestas:\n",
        "1. Los tipos de datos utilizados fueron: diccionarios, listas, tuplas, intigers y strings,\n",
        "\n",
        "2. las variables usadas para diccionarios fueron: mi_dict.\n",
        "\n",
        "  para Listas fueron: lista_lineas\n",
        "\n",
        "  para tuplas: mayor_caracteres, nombre_caracteres\n",
        "\n",
        "  strings: texto_completo, texto, hobby, integrante\n",
        "\n",
        "  intigers: mayor_caracteres[1] , nombre_caracteres[1]\n",
        "\n",
        "3. Diccionarios (dict): mi_dict.\n",
        "\n",
        "   Tuplas (tuple): mayor_caracteres, nombre_caracteres\n",
        "   \n",
        "   Listas (list): lista_lineas\n",
        "\n",
        "4. Usamos: If, Else y For\n",
        "\n",
        "5.\n",
        "# Tipos de archivos para guardar datos y librerías en Python\n",
        "\n",
        "## Archivos de texto plano (.txt, .csv)\n",
        "\n",
        "- **Formato:** Estos archivos contienen datos en formato de texto plano, generalmente organizados en filas y columnas.\n",
        "- **Librerías:** En Python, puedes trabajar con archivos de texto plano utilizando las librerías estándar `open()` para la manipulación de archivos y `csv` para archivos CSV.\n",
        "\n",
        "```python\n",
        "import csv\n",
        "\n",
        "# Lectura de un archivo CSV\n",
        "with open('datos.csv', 'r') as archivo_csv:\n",
        "    lector_csv = csv.reader(archivo_csv)\n",
        "    for fila in lector_csv:\n",
        "        print(fila)\n",
        "\n",
        "# Escritura en un archivo CSV\n",
        "datos = [['Nombre', 'Edad'],\n",
        "         ['Juan', 25],\n",
        "         ['María', 30]]\n",
        "\n",
        "with open('datos.csv', 'w', newline='') as archivo_csv:\n",
        "    escritor_csv = csv.writer(archivo_csv)\n",
        "    escritor_csv.writerows(datos)\n",
        "```\n",
        "\n",
        "## Archivos Excel (.xlsx)\n",
        "\n",
        "- **Formato:** Archivos de hojas de cálculo de Excel.\n",
        "- **Librerías:** `pandas` es una librería muy popular para trabajar con datos tabulares, incluidos los archivos de Excel.\n",
        "\n",
        "```python\n",
        "import pandas as pd\n",
        "\n",
        "# Lectura de un archivo Excel\n",
        "datos_excel = pd.read_excel('datos.xlsx')\n",
        "\n",
        "# Escritura en un archivo Excel\n",
        "datos.to_excel('datos.xlsx', index=False)\n",
        "```\n",
        "\n",
        "## Archivos JSON (.json)\n",
        "\n",
        "- **Formato:** Archivos de texto estructurado en formato JSON (JavaScript Object Notation).\n",
        "- **Librerías:** En Python, puedes utilizar la librería estándar `json` para trabajar con archivos JSON.\n",
        "\n",
        "```python\n",
        "import json\n",
        "\n",
        "# Lectura de un archivo JSON\n",
        "with open('datos.json', 'r') as archivo_json:\n",
        "    datos = json.load(archivo_json)\n",
        "\n",
        "# Escritura en un archivo JSON\n",
        "datos = {'nombre': 'Juan', 'edad': 25}\n",
        "\n",
        "with open('datos.json', 'w') as archivo_json:\n",
        "    json.dump(datos, archivo_json)\n",
        "```\n",
        "\n",
        "## Archivos HDF5 (.h5)\n",
        "\n",
        "- **Formato:** Archivos binarios diseñados para almacenar grandes cantidades de datos de manera estructurada.\n",
        "- **Librerías:** `h5py` es una librería popular para trabajar con archivos HDF5 en Python.\n",
        "\n",
        "```python\n",
        "import h5py\n",
        "\n",
        "# Lectura de un archivo HDF5\n",
        "with h5py.File('datos.h5', 'r') as archivo_hdf5:\n",
        "    datos = archivo_hdf5['nombre_del_dataset'][:]\n",
        "\n",
        "# Escritura en un archivo HDF5\n",
        "with h5py.File('datos.h5', 'w') as archivo_hdf5:\n",
        "    dataset = archivo_hdf5.create_dataset('nombre_del_dataset', data=datos)\n",
        "```\n",
        "\n"
      ]
    }
  ],
  "metadata": {
    "colab": {
      "provenance": [],
      "include_colab_link": true
    },
    "kernelspec": {
      "display_name": "Python 3",
      "name": "python3"
    },
    "language_info": {
      "name": "python"
    }
  },
  "nbformat": 4,
  "nbformat_minor": 0
}